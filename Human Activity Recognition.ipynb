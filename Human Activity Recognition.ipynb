{
 "cells": [
  {
   "cell_type": "markdown",
   "metadata": {
    "colab_type": "text",
    "id": "bB9AYffudq4g"
   },
   "source": [
    "## Divide and Conquer-Based 1D CNN Human Activity Recognition\n",
    "\n",
    " This prolem was solved by taking inspiration from **Divide and Conquer-Based 1D CNN Human Activity Recognition Using Test Data Sharpening** \n",
    "\n",
    " which was proposed by Heeryon Cho and Sang Min Yoon"
   ]
  },
  {
   "cell_type": "markdown",
   "metadata": {
    "colab_type": "text",
    "id": "W6P1CLMTeteZ"
   },
   "source": [
    "Human Activity Recognition data consists of 6 labels()\n",
    "\n",
    "*   WALKING\n",
    "*  WALKING_UPSTAIRS\n",
    "* WALKING_DOWNSTAIRS\n",
    "* SITTING\n",
    "* STANDING\n",
    "* LAYING\n",
    "\n",
    "As we have seen in HAR EDA, we can differentiate dynamic activities(WALKING,WALKING_UPSTAIRS, WALKING_DOWNSTAIRS) and static activities (SITTING,STANDING,LAYING)\n"
   ]
  },
  {
   "cell_type": "markdown",
   "metadata": {
    "colab_type": "text",
    "id": "2PEFdFiZftSv"
   },
   "source": [
    "\n",
    "\n",
    "> So intially we are building a base line classifier to classify static and dynamic activities and later for static and dybamic activities we are building separate classifiers. Finally we are combining all three classifiers to get better results\n",
    "\n",
    "\n",
    "\n"
   ]
  },
  {
   "cell_type": "code",
   "execution_count": 41,
   "metadata": {
    "colab": {},
    "colab_type": "code",
    "id": "MwbXkAnID69x"
   },
   "outputs": [],
   "source": [
    "import pandas as pd\n",
    "import numpy as np\n",
    "import tensorflow as tf\n",
    "from sklearn.metrics import confusion_matrix as cm\n",
    "from matplotlib import pyplot as plt\n",
    "import seaborn as sns\n",
    "from keras.models import Sequential\n",
    "from keras.layers import LSTM, Flatten\n",
    "from keras.layers.core import Dense, Dropout\n",
    "from keras.optimizers import RMSprop, adam\n",
    "from keras.models import load_model\n",
    "from keras.layers.normalization import BatchNormalization\n",
    "from sklearn.preprocessing import StandardScaler\n",
    "from sklearn.metrics import accuracy_score\n",
    "from keras.regularizers import l2\n",
    "from hyperopt import Trials, STATUS_OK, tpe\n",
    "from hyperas import optim\n",
    "from hyperas.distributions import choice, uniform\n",
    "from keras.models import Sequential\n",
    "import keras\n",
    "from keras.layers import Conv1D, Input, MaxPooling1D,concatenate,TimeDistributed\n",
    "from keras.models import Model"
   ]
  },
  {
   "cell_type": "code",
   "execution_count": 42,
   "metadata": {
    "colab": {},
    "colab_type": "code",
    "id": "ixGrqGLhwVpE"
   },
   "outputs": [],
   "source": [
    "# Configuring a session\n",
    "session_conf = tf.ConfigProto(\n",
    "    intra_op_parallelism_threads=1,\n",
    "    inter_op_parallelism_threads=1\n",
    ")"
   ]
  },
  {
   "cell_type": "code",
   "execution_count": 43,
   "metadata": {
    "colab": {
     "base_uri": "https://localhost:8080/",
     "height": 34
    },
    "colab_type": "code",
    "executionInfo": {
     "elapsed": 76605,
     "status": "ok",
     "timestamp": 1565491297265,
     "user": {
      "displayName": "sandeep Burra",
      "photoUrl": "",
      "userId": "00094485018250843945"
     },
     "user_tz": -330
    },
    "id": "YejaBsX2wVpZ",
    "outputId": "03efddf3-7471-43f0-ff88-b566804c63b8"
   },
   "outputs": [],
   "source": [
    "# Import Keras\n",
    "from keras import backend as K\n",
    "sess = tf.Session(graph=tf.get_default_graph(), config=session_conf)\n",
    "K.set_session(sess)"
   ]
  },
  {
   "cell_type": "code",
   "execution_count": 45,
   "metadata": {
    "colab": {},
    "colab_type": "code",
    "id": "_tgolQiPwVps"
   },
   "outputs": [],
   "source": [
    "# Initializing parameters\n",
    "epochs = 30\n",
    "batch_size = 30\n",
    "n_hidden = 32"
   ]
  },
  {
   "cell_type": "code",
   "execution_count": 46,
   "metadata": {
    "colab": {},
    "colab_type": "code",
    "id": "AN0p-eV6wVpy"
   },
   "outputs": [],
   "source": [
    "# Utility function to count the number of classes\n",
    "def _count_classes(y):\n",
    "    return len(set([tuple(category) for category in y]))"
   ]
  },
  {
   "cell_type": "code",
   "execution_count": 105,
   "metadata": {
    "colab": {},
    "colab_type": "code",
    "id": "DGvu4PI8D692"
   },
   "outputs": [],
   "source": [
    "# Activities are the class labels\n",
    "# It is a 6 class classification\n",
    "ACTIVITIES = {\n",
    "    0: 'WALKING',\n",
    "    1: 'WALKING_UPSTAIRS',\n",
    "    2: 'WALKING_DOWNSTAIRS',\n",
    "    3: 'SITTING',\n",
    "    4: 'STANDING',\n",
    "    5: 'LAYING',\n",
    "}\n",
    "\n",
    "# Utility function to print the confusion matrix\n",
    "def confusion_matrix_s(Y_true, Y_pred):\n",
    "    Y_true = pd.Series([ACTIVITIES[y] for y in np.argmax(Y_true, axis=1)])\n",
    "    Y_pred = pd.Series([ACTIVITIES[y] for y in np.argmax(Y_pred, axis=1)])\n",
    "\n",
    "    return pd.crosstab(Y_true, Y_pred, rownames=['True'], colnames=['Pred'])"
   ]
  },
  {
   "cell_type": "markdown",
   "metadata": {
    "colab_type": "text",
    "id": "vIif6ZmoD697"
   },
   "source": [
    "### Utility Functions"
   ]
  },
  {
   "cell_type": "code",
   "execution_count": 49,
   "metadata": {
    "colab": {},
    "colab_type": "code",
    "id": "CBgrPcEwD698"
   },
   "outputs": [],
   "source": [
    "# Data directory\n",
    "DATADIR = 'UCI_HAR_Dataset'"
   ]
  },
  {
   "cell_type": "code",
   "execution_count": 50,
   "metadata": {
    "colab": {},
    "colab_type": "code",
    "id": "6rRZ-1_0D6-A"
   },
   "outputs": [],
   "source": [
    "# Raw data signals\n",
    "# Signals are from Accelerometer and Gyroscope\n",
    "# The signals are in x,y,z directions\n",
    "# Sensor signals are filtered to have only body acceleration\n",
    "# excluding the acceleration due to gravity\n",
    "# Triaxial acceleration from the accelerometer is total acceleration\n",
    "SIGNALS = [\n",
    "    \"body_acc_x\",\n",
    "    \"body_acc_y\",\n",
    "    \"body_acc_z\",\n",
    "    \"body_gyro_x\",\n",
    "    \"body_gyro_y\",\n",
    "    \"body_gyro_z\",\n",
    "    \"total_acc_x\",\n",
    "    \"total_acc_y\",\n",
    "    \"total_acc_z\"\n",
    "]"
   ]
  },
  {
   "cell_type": "code",
   "execution_count": 65,
   "metadata": {
    "colab": {},
    "colab_type": "code",
    "id": "eR4df4JZD6-F"
   },
   "outputs": [],
   "source": [
    "# Utility function to read the data from csv file\n",
    "def _read_csv(filename):\n",
    "    return pd.read_csv(filename, delim_whitespace=True, header=None)\n",
    "\n",
    "# Utility function to load the load\n",
    "def load_signals():\n",
    "    signals_data_train = []\n",
    "    signals_data_test = []\n",
    "\n",
    "    for signal in SIGNALS:\n",
    "        filename_train = f'UCI_HAR_Dataset/train/Inertial Signals/{signal}_train.txt'\n",
    "        df_train =  _read_csv(filename_train)\n",
    "        #print(df_train.head())\n",
    "        # standardizing the data\n",
    "        s = StandardScaler()\n",
    "        df_train_std = s.fit_transform(df_train)\n",
    "        df_train_std_df = pd.DataFrame(df_train_std)\n",
    "        #print(df_train_std_df.head())\n",
    "        filename_test = f'UCI_HAR_Dataset/test/Inertial Signals/{signal}_test.txt'\n",
    "        df_test =  _read_csv(filename_test)\n",
    "        df_test_std = s.transform(df_test)\n",
    "        df_test_std_df = pd.DataFrame(df_test_std)\n",
    "        signals_data_train.append(df_train_std_df.values)\n",
    "        signals_data_test.append(df_test_std_df.values)\n",
    "        # Transpose is used to change the dimensionality of the output,\n",
    "    # aggregating the signals by combination of sample/timestep.\n",
    "    # Resultant shape is (7352 train/2947 test samples, 128 timesteps, 9 signals)\n",
    "    final_train = np.transpose(signals_data_train, (1, 2, 0))\n",
    "    final_test = np.transpose(signals_data_test, (1, 2, 0))\n",
    "    \n",
    "      # Transpose is used to change the dimensionality of the output,\n",
    "    # aggregating the signals by combination of sample/timestep.\n",
    "    # Resultant shape is (7352 train/2947 test samples, 128 timesteps, 9 signals)\n",
    "    return final_train, final_test"
   ]
  },
  {
   "cell_type": "code",
   "execution_count": 66,
   "metadata": {
    "colab": {},
    "colab_type": "code",
    "id": "klG1rbT2D6-J"
   },
   "outputs": [],
   "source": [
    "\n",
    "def load_y_2class(subset):\n",
    "    \"\"\"\n",
    "    The objective that we are trying to predict is a integer, from 1 to 6,\n",
    "    that represents a human activity. We return a binary representation of \n",
    "    every sample objective as a 6 bits vector using One Hot Encoding\n",
    "    (https://pandas.pydata.org/pandas-docs/stable/generated/pandas.get_dummies.html)\n",
    "    \"\"\"\n",
    "    filename = f'UCI_HAR_Dataset/{subset}/y_{subset}.txt'\n",
    "    y = _read_csv(filename)[0]\n",
    "    \n",
    "    # Making Class labels for baseline classifier i.e. for all dynamic activities will be labled as 0 and static activities \\ \n",
    "    # will be labeled as 1\n",
    "    \n",
    "    y[y==1] = 0\n",
    "    y[y==2] = 0\n",
    "    y[y==3] = 0\n",
    "    y[y==4] = 1\n",
    "    y[y==5] = 1\n",
    "    y[y==6] = 1\n",
    "\n",
    "    return pd.get_dummies(y).values"
   ]
  },
  {
   "cell_type": "code",
   "execution_count": 67,
   "metadata": {
    "colab": {},
    "colab_type": "code",
    "id": "IYE4ZbsD1G3Z"
   },
   "outputs": [],
   "source": [
    "def load_y(subset):\n",
    "    \"\"\"\n",
    "    The objective that we are trying to predict is a integer, from 1 to 6,\n",
    "    that represents a human activity. We return a binary representation of \n",
    "    every sample objective as a 6 bits vector using One Hot Encoding\n",
    "    (https://pandas.pydata.org/pandas-docs/stable/generated/pandas.get_dummies.html)\n",
    "    \"\"\"\n",
    "    filename = f'UCI_HAR_Dataset/{subset}/y_{subset}.txt'\n",
    "    y = _read_csv(filename)[0]\n",
    "    return y"
   ]
  },
  {
   "cell_type": "code",
   "execution_count": 68,
   "metadata": {
    "colab": {},
    "colab_type": "code",
    "id": "Y7RyyDj85Fz-"
   },
   "outputs": [],
   "source": [
    "def load_y_static(subset):\n",
    "    \"\"\"\n",
    "    The objective that we are trying to predict is a integer, from 1 to 6,\n",
    "    that represents a human activity. We return a binary representation of \n",
    "    every sample objective as a 6 bits vector using One Hot Encoding\n",
    "    (https://pandas.pydata.org/pandas-docs/stable/generated/pandas.get_dummies.html)\n",
    "    \"\"\"\n",
    "    filename = f'UCI_HAR_Dataset/{subset}/y_{subset}.txt'\n",
    "    y = _read_csv(filename)[0]\n",
    "    # intially static activities are labeled as 4,5,6 so we are filtering only static labels\n",
    "    y_static_con = y>3 # preparing indices for the X_data\n",
    "    y= y[y_static_con]\n",
    "    return pd.get_dummies(y).values , y_static_con"
   ]
  },
  {
   "cell_type": "code",
   "execution_count": 69,
   "metadata": {
    "colab": {},
    "colab_type": "code",
    "id": "LBtCZyHYD6-N"
   },
   "outputs": [],
   "source": [
    "def load_data_static():\n",
    "    \"\"\"\n",
    "    Obtain the dataset from multiple files.\n",
    "    Returns: X_train, X_test, y_train, y_test\n",
    "    \"\"\"\n",
    "    \n",
    "    y_train,y_train_con  = load_y_static('train')\n",
    "    y_test,y_test_con =load_y_static('test')\n",
    "    X_train, X_test = load_signals()\n",
    "    X_train_static = X_train[y_train_con] # taking only static activity labeled data\n",
    "    X_test_static = X_test[y_test_con]\n",
    "    \n",
    "\n",
    "    return X_train_static, X_test_static, y_train, y_test"
   ]
  },
  {
   "cell_type": "code",
   "execution_count": 70,
   "metadata": {
    "colab": {},
    "colab_type": "code",
    "id": "uankeVO68jZN"
   },
   "outputs": [],
   "source": [
    "def load_y_dynamic(subset):\n",
    "    \"\"\"\n",
    "    The objective that we are trying to predict is a integer, from 1 to 6,\n",
    "    that represents a human activity. We return a binary representation of \n",
    "    every sample objective as a 6 bits vector using One Hot Encoding\n",
    "    (https://pandas.pydata.org/pandas-docs/stable/generated/pandas.get_dummies.html)\n",
    "    \"\"\"\n",
    "    filename = f'UCI_HAR_Dataset/{subset}/y_{subset}.txt'\n",
    "    y = _read_csv(filename)[0]\n",
    "    # intially dynamic activities are labeled as 1,2,3 so we are filtering only dynamic labels\n",
    "    y_dynamic_con = y<4\n",
    "    y= y[y_dynamic_con]\n",
    "    return pd.get_dummies(y).as_matrix() , y_dynamic_con"
   ]
  },
  {
   "cell_type": "code",
   "execution_count": 71,
   "metadata": {
    "colab": {},
    "colab_type": "code",
    "id": "EGo5qmjq8jZa"
   },
   "outputs": [],
   "source": [
    "def load_data_dynamic():\n",
    "    \"\"\"\n",
    "    Obtain the dataset from multiple files.\n",
    "    Returns: X_train, X_test, y_train, y_test\n",
    "    \"\"\"\n",
    "    \n",
    "    y_train,y_train_con  = load_y_dynamic('train')\n",
    "    y_test,y_test_con =load_y_dynamic('test')\n",
    "    X_train, X_test = load_signals()\n",
    "    X_train_dynamic = X_train[y_train_con] # taking only dynamic activity labeled data\n",
    "    X_test_dynamic = X_test[y_test_con]\n",
    "    \n",
    "\n",
    "    return X_train_dynamic, X_test_dynamic, y_train, y_test"
   ]
  },
  {
   "cell_type": "code",
   "execution_count": 72,
   "metadata": {
    "colab": {},
    "colab_type": "code",
    "id": "HIR-8LqP259g"
   },
   "outputs": [],
   "source": [
    "def load_data_2class():\n",
    "    \"\"\"\n",
    "    Obtain the dataset from multiple files.\n",
    "    Returns: X_train, X_test, y_train, y_test\n",
    "    \"\"\"\n",
    "    X_train, X_test = load_signals()\n",
    "    y_train, y_test = load_y_2class('train'), load_y_2class('test')\n",
    "\n",
    "    return X_train, X_test, y_train, y_test"
   ]
  },
  {
   "cell_type": "code",
   "execution_count": 73,
   "metadata": {
    "colab": {},
    "colab_type": "code",
    "id": "FghKxC07jiaP"
   },
   "outputs": [],
   "source": [
    "def load_data():\n",
    "    \"\"\"\n",
    "    Obtain the dataset from multiple files.\n",
    "    Returns: X_train, X_test, y_train, y_test\n",
    "    \"\"\"\n",
    "    X_train, X_test = load_signals()\n",
    "    y_train, y_test = load_y('train'), load_y('test')\n",
    "\n",
    "    return X_train, X_test, y_train, y_test"
   ]
  },
  {
   "cell_type": "markdown",
   "metadata": {
    "colab_type": "text",
    "id": "I6wvyxKt95bT"
   },
   "source": [
    "### Loading data"
   ]
  },
  {
   "cell_type": "code",
   "execution_count": 74,
   "metadata": {
    "colab": {},
    "colab_type": "code",
    "id": "FQwxGrjy2uIK"
   },
   "outputs": [],
   "source": [
    "# Loading static data\n",
    "X_train_static, X_test_static, Y_train_static, Y_test_static = load_data_static()"
   ]
  },
  {
   "cell_type": "code",
   "execution_count": 75,
   "metadata": {
    "colab": {
     "base_uri": "https://localhost:8080/",
     "height": 85
    },
    "colab_type": "code",
    "executionInfo": {
     "elapsed": 71931,
     "status": "ok",
     "timestamp": 1565480308586,
     "user": {
      "displayName": "sandeep Burra",
      "photoUrl": "",
      "userId": "00094485018250843945"
     },
     "user_tz": -330
    },
    "id": "N_jQziZj6fX0",
    "outputId": "2e7d1f34-d132-4ecf-f210-b87754a2aeb2"
   },
   "outputs": [
    {
     "name": "stdout",
     "output_type": "stream",
     "text": [
      "shape of static x_train data (4067, 128, 9)\n",
      "shape of static x_test data (1560, 128, 9)\n",
      "shape of static y_train data (4067, 3)\n",
      "shape of static y_test data (1560, 3)\n"
     ]
    }
   ],
   "source": [
    "print(\"shape of static x_train data\",X_train_static.shape)\n",
    "print(\"shape of static x_test data\",X_test_static.shape)\n",
    "print(\"shape of static y_train data\",Y_train_static.shape)\n",
    "print(\"shape of static y_test data\",Y_test_static.shape)"
   ]
  },
  {
   "cell_type": "code",
   "execution_count": 76,
   "metadata": {
    "colab": {
     "base_uri": "https://localhost:8080/",
     "height": 71
    },
    "colab_type": "code",
    "executionInfo": {
     "elapsed": 75861,
     "status": "ok",
     "timestamp": 1565480312533,
     "user": {
      "displayName": "sandeep Burra",
      "photoUrl": "",
      "userId": "00094485018250843945"
     },
     "user_tz": -330
    },
    "id": "MltMZx6W8X6d",
    "outputId": "2fe2a18a-744d-4556-cec5-d9cda8ee90d6"
   },
   "outputs": [
    {
     "name": "stderr",
     "output_type": "stream",
     "text": [
      "C:\\Users\\sandeep\\Anaconda3\\lib\\site-packages\\ipykernel_launcher.py:13: FutureWarning: Method .as_matrix will be removed in a future version. Use .values instead.\n",
      "  del sys.path[0]\n"
     ]
    }
   ],
   "source": [
    "# Loading dynamic data\n",
    "X_train_dynamic, X_test_dynamic, Y_train_dynamic, Y_test_dynamic = load_data_dynamic()"
   ]
  },
  {
   "cell_type": "code",
   "execution_count": 77,
   "metadata": {
    "colab": {
     "base_uri": "https://localhost:8080/",
     "height": 85
    },
    "colab_type": "code",
    "executionInfo": {
     "elapsed": 75850,
     "status": "ok",
     "timestamp": 1565480312535,
     "user": {
      "displayName": "sandeep Burra",
      "photoUrl": "",
      "userId": "00094485018250843945"
     },
     "user_tz": -330
    },
    "id": "V54ObqeT-jMj",
    "outputId": "6716845a-5861-4676-d850-d46eab4eba26"
   },
   "outputs": [
    {
     "name": "stdout",
     "output_type": "stream",
     "text": [
      "shape of dynamic x_train data (3285, 128, 9)\n",
      "shape of dynamic x_test data (1387, 128, 9)\n",
      "shape of dynamic y_train data (3285, 3)\n",
      "shape of dynamic y_test data (1387, 3)\n"
     ]
    }
   ],
   "source": [
    "print(\"shape of dynamic x_train data\",X_train_dynamic.shape)\n",
    "print(\"shape of dynamic x_test data\",X_test_dynamic.shape)\n",
    "print(\"shape of dynamic y_train data\",Y_train_dynamic.shape)\n",
    "print(\"shape of dynamic y_test data\",Y_test_dynamic.shape)"
   ]
  },
  {
   "cell_type": "code",
   "execution_count": 78,
   "metadata": {
    "colab": {},
    "colab_type": "code",
    "id": "SAhYaAttD6-x"
   },
   "outputs": [],
   "source": [
    "# Loading the train and test whole data labeled as 0 and 1 for binary classification\n",
    "X_train_2, X_test_2, Y_train_2, Y_test_2 = load_data_2class()"
   ]
  },
  {
   "cell_type": "code",
   "execution_count": 79,
   "metadata": {
    "colab": {},
    "colab_type": "code",
    "id": "cHELRwZSjRBl"
   },
   "outputs": [],
   "source": [
    "# Loading the train and test whole data labeled as 1 to 6 for final classification\n",
    "X_train, X_test, Y_train, Y_test = load_data()"
   ]
  },
  {
   "cell_type": "code",
   "execution_count": 80,
   "metadata": {
    "colab": {
     "base_uri": "https://localhost:8080/",
     "height": 68
    },
    "colab_type": "code",
    "executionInfo": {
     "elapsed": 83785,
     "status": "ok",
     "timestamp": 1565480320500,
     "user": {
      "displayName": "sandeep Burra",
      "photoUrl": "",
      "userId": "00094485018250843945"
     },
     "user_tz": -330
    },
    "id": "tH250Bw0D6-1",
    "outputId": "a20f82b3-e0a3-45b3-ee61-008a6dc75161"
   },
   "outputs": [
    {
     "name": "stdout",
     "output_type": "stream",
     "text": [
      "128\n",
      "9\n",
      "7352\n"
     ]
    }
   ],
   "source": [
    "timesteps = len(X_train[0])\n",
    "input_dim = len(X_train[0][0])\n",
    "#n_classes = _count_classes(Y_train)\n",
    "\n",
    "print(timesteps)\n",
    "print(input_dim)\n",
    "print(len(X_train))"
   ]
  },
  {
   "cell_type": "code",
   "execution_count": 0,
   "metadata": {
    "colab": {
     "base_uri": "https://localhost:8080/",
     "height": 34
    },
    "colab_type": "code",
    "executionInfo": {
     "elapsed": 83764,
     "status": "ok",
     "timestamp": 1565480320502,
     "user": {
      "displayName": "sandeep Burra",
      "photoUrl": "",
      "userId": "00094485018250843945"
     },
     "user_tz": -330
    },
    "id": "Rq_uo9_JkRVa",
    "outputId": "dd3b8695-4f1d-4b36-8a5a-9af5f657d00d"
   },
   "outputs": [
    {
     "data": {
      "text/plain": [
       "(7352,)"
      ]
     },
     "execution_count": 28,
     "metadata": {
      "tags": []
     },
     "output_type": "execute_result"
    }
   ],
   "source": [
    "Y_train.shape"
   ]
  },
  {
   "cell_type": "markdown",
   "metadata": {
    "colab_type": "text",
    "id": "istcWnpD-zpa"
   },
   "source": [
    "### Model for 2 class classifier"
   ]
  },
  {
   "cell_type": "code",
   "execution_count": 0,
   "metadata": {
    "colab": {
     "base_uri": "https://localhost:8080/",
     "height": 377
    },
    "colab_type": "code",
    "executionInfo": {
     "elapsed": 2225,
     "status": "ok",
     "timestamp": 1565443832184,
     "user": {
      "displayName": "sandeep Burra",
      "photoUrl": "",
      "userId": "00094485018250843945"
     },
     "user_tz": -330
    },
    "id": "yA15q07WAvhd",
    "outputId": "e8307869-ef43-4aec-ad5a-5b84d460a2e1"
   },
   "outputs": [
    {
     "name": "stderr",
     "output_type": "stream",
     "text": [
      "W0810 13:30:30.152844 139981487331200 nn_ops.py:4224] Large dropout rate: 0.7 (>0.5). In TensorFlow 2.x, dropout() uses dropout rate instead of keep_prob. Please ensure that this is intended.\n"
     ]
    },
    {
     "name": "stdout",
     "output_type": "stream",
     "text": [
      "_________________________________________________________________\n",
      "Layer (type)                 Output Shape              Param #   \n",
      "=================================================================\n",
      "conv1d_3 (Conv1D)            (None, 126, 64)           1792      \n",
      "_________________________________________________________________\n",
      "dropout_2 (Dropout)          (None, 126, 64)           0         \n",
      "_________________________________________________________________\n",
      "max_pooling1d_2 (MaxPooling1 (None, 42, 64)            0         \n",
      "_________________________________________________________________\n",
      "flatten_2 (Flatten)          (None, 2688)              0         \n",
      "_________________________________________________________________\n",
      "dense_3 (Dense)              (None, 50)                134450    \n",
      "_________________________________________________________________\n",
      "dense_4 (Dense)              (None, 2)                 102       \n",
      "=================================================================\n",
      "Total params: 136,344\n",
      "Trainable params: 136,344\n",
      "Non-trainable params: 0\n",
      "_________________________________________________________________\n"
     ]
    }
   ],
   "source": [
    "# Initiliazing the sequential model\n",
    "model_2class = Sequential()\n",
    "model_2class.add(Conv1D(64, kernel_size=3, activation= 'relu',input_shape=(128,9)))\n",
    "#model_2class.add(Conv1D(12, kernel_size=3, activation= 'relu'))\n",
    "model_2class.add(Dropout(0.7))\n",
    "model_2class.add(MaxPooling1D(pool_size=3))\n",
    "model_2class.add(Flatten())\n",
    "model_2class.add(Dense(50, activation='relu'))\n",
    "model_2class.add(Dense(2, activation='softmax'))\n",
    "model_2class.summary()"
   ]
  },
  {
   "cell_type": "code",
   "execution_count": 0,
   "metadata": {
    "colab": {},
    "colab_type": "code",
    "id": "ymShDpqUyIS-"
   },
   "outputs": [],
   "source": [
    "# Compiling the model\n",
    "model_2class.compile(loss='categorical_crossentropy',\n",
    "              optimizer='rmsprop',\n",
    "              metrics=['accuracy'])"
   ]
  },
  {
   "cell_type": "code",
   "execution_count": 0,
   "metadata": {
    "colab": {
     "base_uri": "https://localhost:8080/",
     "height": 394
    },
    "colab_type": "code",
    "executionInfo": {
     "elapsed": 18420,
     "status": "ok",
     "timestamp": 1565443858445,
     "user": {
      "displayName": "sandeep Burra",
      "photoUrl": "",
      "userId": "00094485018250843945"
     },
     "user_tz": -330
    },
    "id": "9mLqpE0jyITX",
    "outputId": "b6274f39-bfce-499c-e696-5015a0eae099"
   },
   "outputs": [
    {
     "name": "stdout",
     "output_type": "stream",
     "text": [
      "Train on 7352 samples, validate on 2947 samples\n",
      "Epoch 1/10\n",
      "7352/7352 [==============================] - 2s 252us/step - loss: 0.0415 - acc: 0.9853 - val_loss: 0.0275 - val_acc: 0.9878\n",
      "Epoch 2/10\n",
      "7352/7352 [==============================] - 2s 226us/step - loss: 0.0030 - acc: 0.9993 - val_loss: 0.0340 - val_acc: 0.9888\n",
      "Epoch 3/10\n",
      "7352/7352 [==============================] - 2s 226us/step - loss: 1.5267e-04 - acc: 1.0000 - val_loss: 0.0572 - val_acc: 0.9874\n",
      "Epoch 4/10\n",
      "7352/7352 [==============================] - 2s 228us/step - loss: 3.0593e-04 - acc: 0.9999 - val_loss: 0.0128 - val_acc: 0.9966\n",
      "Epoch 5/10\n",
      "7352/7352 [==============================] - 2s 227us/step - loss: 2.8885e-06 - acc: 1.0000 - val_loss: 0.0465 - val_acc: 0.9878\n",
      "Epoch 6/10\n",
      "7352/7352 [==============================] - 2s 227us/step - loss: 3.8072e-07 - acc: 1.0000 - val_loss: 0.0085 - val_acc: 0.9983\n",
      "Epoch 7/10\n",
      "7352/7352 [==============================] - 2s 227us/step - loss: 2.6765e-06 - acc: 1.0000 - val_loss: 0.0112 - val_acc: 0.9980\n",
      "Epoch 8/10\n",
      "7352/7352 [==============================] - 2s 227us/step - loss: 1.9560e-07 - acc: 1.0000 - val_loss: 0.0157 - val_acc: 0.9973\n",
      "Epoch 9/10\n",
      "7352/7352 [==============================] - 2s 222us/step - loss: 1.3284e-07 - acc: 1.0000 - val_loss: 0.0156 - val_acc: 0.9969\n",
      "Epoch 10/10\n",
      "7352/7352 [==============================] - 2s 231us/step - loss: 1.1921e-07 - acc: 1.0000 - val_loss: 0.0159 - val_acc: 0.9966\n"
     ]
    }
   ],
   "source": [
    "# Training the model\n",
    "history = model_2class.fit(X_train_2,\n",
    "          Y_train_2,\n",
    "          batch_size=batch_size,\n",
    "          validation_data=(X_test_2, Y_test_2),\n",
    "          epochs=10)"
   ]
  },
  {
   "cell_type": "code",
   "execution_count": 0,
   "metadata": {
    "colab": {},
    "colab_type": "code",
    "id": "-44m1GhrmpKd"
   },
   "outputs": [],
   "source": [
    "# saving the model\n",
    "model_2class.save(\"UCI_HAR_Dataset/model_2class_new.h5\")"
   ]
  },
  {
   "cell_type": "markdown",
   "metadata": {
    "colab_type": "text",
    "id": "qThZOiw6D6_l"
   },
   "source": [
    "- With 2 class classifier we are classifying static and dynamic activities with 99.9 accuracy"
   ]
  },
  {
   "cell_type": "markdown",
   "metadata": {
    "colab_type": "text",
    "id": "a3C-XBeh-_j2"
   },
   "source": [
    "### model for static classifier"
   ]
  },
  {
   "cell_type": "markdown",
   "metadata": {
    "colab": {},
    "colab_type": "code",
    "id": "-rivMr8ZAZ2l"
   },
   "source": [
    "* Iam not getting good accuracy with simple architecture so using hyperas to do hyperparameter tuning"
   ]
  },
  {
   "cell_type": "code",
   "execution_count": 0,
   "metadata": {
    "colab": {},
    "colab_type": "code",
    "id": "DZ47gR6F_HwY"
   },
   "outputs": [],
   "source": [
    "def static_model(X_train_static,Y_train_static,X_test_static,Y_test_static):\n",
    "    model_static = Sequential()\n",
    "    model_static.add(Conv1D(filters=({{choice([64,32,100])}}), kernel_size=7, activation='relu',kernel_regularizer = l2({{uniform(0, 1)}}),input_shape=(128,9)))\n",
    "    model_static.add(Dropout({{uniform(0,1)}}))\n",
    "    model_static.add(MaxPooling1D(pool_size=5))\n",
    "    model_static.add(Conv1D(filters=({{choice([64,32])}}), kernel_size=5, activation='relu',kernel_regularizer = l2({{uniform(0, 1)}})))\n",
    "    model_static.add(Dropout({{uniform(0,1)}}))\n",
    "    model_static.add(Flatten())\n",
    "    model_static.add(Dense(({{choice([64,32,100])}}), activation='relu'))\n",
    "    model_static.add(Dense(3, activation='softmax'))\n",
    "    model_static.compile(loss='categorical_crossentropy',\n",
    "                  optimizer={{choice(['rmsprop','adam','sgd'])}},\n",
    "                  metrics=['accuracy'])\n",
    "    model_static.fit(X_train_static,Y_train_static, epochs=30, batch_size={{choice([16,32])}},validation_data=(X_test_static, Y_test_static), verbose=1)\n",
    "    score, acc = model.evaluate(X_test_static, Y_test_static, verbose=0)\n",
    "    print('Test model_static:', acc)\n",
    "    return {'loss': -acc, 'status': STATUS_OK, 'model': model}"
   ]
  },
  {
   "cell_type": "code",
   "execution_count": 7,
   "metadata": {
    "colab": {},
    "colab_type": "code",
    "id": "wrJZQ5uhLsVl"
   },
   "outputs": [],
   "source": [
    "def data():\n",
    "    \n",
    "    SIGNALS = [\n",
    "    \"body_acc_x\",\n",
    "    \"body_acc_y\",\n",
    "    \"body_acc_z\",\n",
    "    \"body_gyro_x\",\n",
    "    \"body_gyro_y\",\n",
    "    \"body_gyro_z\",\n",
    "    \"total_acc_x\",\n",
    "    \"total_acc_y\",\n",
    "    \"total_acc_z\"]\n",
    "    # Utility function to read the data from csv file\n",
    "    def _read_csv_s(filename):\n",
    "        return pd.read_csv(filename, delim_whitespace=True, header=None)\n",
    "\n",
    "    # Utility function to load the load\n",
    "    def load_signals_s():\n",
    "             \n",
    "        signals_data_train = []\n",
    "        signals_data_test = []\n",
    "\n",
    "        for signal in SIGNALS:\n",
    "            \n",
    "            \n",
    "            filename_train = f'UCI_HAR_Dataset/train/Inertial Signals/{signal}_train.txt'\n",
    "            df_train =  _read_csv_s(filename_train)\n",
    "            #print(df_train.head())\n",
    "            # standardizing the data\n",
    "            s = StandardScaler()\n",
    "            df_train_std = s.fit_transform(df_train)\n",
    "            df_train_std_df = pd.DataFrame(df_train_std)\n",
    "            #print(df_train_std_df.head())\n",
    "            filename_test = f'UCI_HAR_Dataset/test/Inertial Signals/{signal}_test.txt'\n",
    "            df_test =  _read_csv_s(filename_test)\n",
    "            df_test_std = s.transform(df_test)\n",
    "            df_test_std_df = pd.DataFrame(df_test_std)\n",
    "            signals_data_train.append(df_train_std_df.values)\n",
    "            signals_data_test.append(df_test_std_df.values)\n",
    "        # Transpose is used to change the dimensionality of the output,\n",
    "        # aggregating the signals by combination of sample/timestep.\n",
    "        # Resultant shape is (7352 train/2947 test samples, 128 timesteps, 9 signals)\n",
    "        final_train = np.transpose(signals_data_train, (1, 2, 0))\n",
    "        final_test = np.transpose(signals_data_test, (1, 2, 0))\n",
    "        return final_train, final_test\n",
    "    def load_y_static_s(subset):\n",
    "        \n",
    "    \n",
    "        \"\"\"\n",
    "        The objective that we are trying to predict is a integer, from 1 to 6,\n",
    "        that represents a human activity. We return a binary representation of \n",
    "        every sample objective as a 6 bits vector using One Hot Encoding\n",
    "        (https://pandas.pydata.org/pandas-docs/stable/generated/pandas.get_dummies.html)\n",
    "        \"\"\"\n",
    "        filename = f'UCI_HAR_Dataset/{subset}/y_{subset}.txt'\n",
    "        y = _read_csv_s(filename)[0]\n",
    "        # intially static activities are labeled as 4,5,6 so we are filtering only static labels\n",
    "        y_static_con = y>3 # preparing indices for the X_data\n",
    "        y= y[y_static_con]\n",
    "        return pd.get_dummies(y).values , y_static_con\n",
    "    def load_data_static_s():\n",
    "        \"\"\"\n",
    "        Obtain the dataset from multiple files.\n",
    "        Returns: X_train, X_test, y_train, y_test\n",
    "        \"\"\"\n",
    "\n",
    "        y_train,y_train_con  = load_y_static_s('train')\n",
    "        y_test,y_test_con =load_y_static_s('test')\n",
    "        X_train, X_test = load_signals_s()\n",
    "        X_train_static = X_train[y_train_con] # taking only static activity labeled data\n",
    "        X_test_static = X_test[y_test_con]\n",
    "    \n",
    "\n",
    "        return X_train_static, X_test_static, y_train, y_test\n",
    "    X_train_static, X_test_static, Y_train_static, Y_test_static = load_data_static_s()\n",
    "    return X_train_static,Y_train_static,X_test_static,Y_test_static"
   ]
  },
  {
   "cell_type": "code",
   "execution_count": 8,
   "metadata": {
    "colab": {},
    "colab_type": "code",
    "id": "CV-pUNKSP_rD"
   },
   "outputs": [],
   "source": [
    "\n",
    "def static_model(X_train_static,Y_train_static,X_test_static,Y_test_static):\n",
    "    model_static = Sequential()\n",
    "    \n",
    "    model_static.add(Conv1D(filters={{choice([32,64,100])}}, kernel_size=7,activation='relu',\n",
    "                 kernel_regularizer=l2({{uniform(0,1)}}),input_shape=(128,9)))\n",
    "    \n",
    "    model_static.add(Conv1D(filters={{choice([32,64])}}, kernel_size=5, \n",
    "                     activation='relu',kernel_regularizer=l2({{uniform(0,1)}})))\n",
    "    model_static.add(Dropout({{uniform(0.2,0.8)}}))\n",
    "    model_static.add(MaxPooling1D(pool_size=5))\n",
    "    model_static.add(Flatten())\n",
    "    model_static.add(Dense({{choice([32,64])}}, activation='relu'))\n",
    "    model_static.add(Dense(3, activation='softmax'))\n",
    "        \n",
    "    adam = keras.optimizers.Adam(lr={{uniform(0.0005,0.005)}})\n",
    "    rmsprop = keras.optimizers.RMSprop(lr={{uniform(0.0005,0.005)}})\n",
    "   \n",
    "    choiceval = {{choice(['adam', 'rmsprop'])}}\n",
    "    \n",
    "    if choiceval == 'adam':\n",
    "        optim = adam\n",
    "    else:\n",
    "        optim = rmsprop\n",
    "    \n",
    "    print(model_static.summary())    \n",
    "    model_static.compile(loss='categorical_crossentropy', optimizer=optim,metrics=['accuracy'])\n",
    "    \n",
    "    static_fit = model_static.fit(X_train_static, Y_train_static,\n",
    "              batch_size={{choice([16,32])}},\n",
    "              epochs=30,\n",
    "              verbose=1,\n",
    "              validation_data=(X_test_static, Y_test_static))\n",
    "                       \n",
    "    score, acc = model_static.evaluate(X_test_static, Y_test_static, verbose=0)\n",
    "    print('Test model_static:', acc)\n",
    "    return {'loss': -acc, 'status': STATUS_OK, 'model': model_static}\n",
    "   \n",
    "    "
   ]
  },
  {
   "cell_type": "code",
   "execution_count": 9,
   "metadata": {
    "colab": {
     "base_uri": "https://localhost:8080/"
    },
    "colab_type": "code",
    "id": "vWrg_E1WKyxJ",
    "outputId": "29fa1377-ff8a-45ff-957d-4e1ffc344403"
   },
   "outputs": [],
   "source": [
    "X_train_static,Y_train_static,X_test_static,Y_test_static = data()"
   ]
  },
  {
   "cell_type": "code",
   "execution_count": 1,
   "metadata": {
    "scrolled": true
   },
   "outputs": [
    {
     "data": {
      "text/plain": [
       "\"\\nbest_run, best_model = optim.minimize(model=static_model,\\n                                          data=data,\\n                                          max_evals=10,\\n                                          algo=tpe.suggest,\\n                                          notebook_name='trail_2-divide n concur har', \\n                                          trials=Trials())\\n\""
      ]
     },
     "execution_count": 1,
     "metadata": {},
     "output_type": "execute_result"
    }
   ],
   "source": [
    "# The output of this cell is very large, ecause of this iam facing issues in generating the pdf.\n",
    "# So jut clearing the output\n",
    "'''\n",
    "best_run, best_model = optim.minimize(model=static_model,\n",
    "                                          data=data,\n",
    "                                          max_evals=10,\n",
    "                                          algo=tpe.suggest,\n",
    "                                          notebook_name='trail_2-divide n concur har', \n",
    "                                          trials=Trials())\n",
    "'''"
   ]
  },
  {
   "cell_type": "code",
   "execution_count": 11,
   "metadata": {},
   "outputs": [
    {
     "data": {
      "text/plain": [
       "{'Dropout': 0.6895855955596721,\n",
       " 'batch_size': 0,\n",
       " 'choiceval': 1,\n",
       " 'filters': 2,\n",
       " 'filters_1': 1,\n",
       " 'filters_2': 1,\n",
       " 'l2': 0.6257491042113806,\n",
       " 'l2_1': 0.4437546321946204,\n",
       " 'lr': 0.0045882610590084055,\n",
       " 'lr_1': 0.001515739014339654}"
      ]
     },
     "execution_count": 11,
     "metadata": {},
     "output_type": "execute_result"
    }
   ],
   "source": [
    "best_run"
   ]
  },
  {
   "cell_type": "code",
   "execution_count": 88,
   "metadata": {},
   "outputs": [
    {
     "name": "stdout",
     "output_type": "stream",
     "text": [
      "_________________________________________________________________\n",
      "Layer (type)                 Output Shape              Param #   \n",
      "=================================================================\n",
      "conv1d_27 (Conv1D)           (None, 122, 64)           4096      \n",
      "_________________________________________________________________\n",
      "conv1d_28 (Conv1D)           (None, 118, 32)           10272     \n",
      "_________________________________________________________________\n",
      "dropout_14 (Dropout)         (None, 118, 32)           0         \n",
      "_________________________________________________________________\n",
      "max_pooling1d_14 (MaxPooling (None, 23, 32)            0         \n",
      "_________________________________________________________________\n",
      "flatten_14 (Flatten)         (None, 736)               0         \n",
      "_________________________________________________________________\n",
      "dense_27 (Dense)             (None, 32)                23584     \n",
      "_________________________________________________________________\n",
      "dense_28 (Dense)             (None, 3)                 99        \n",
      "=================================================================\n",
      "Total params: 38,051\n",
      "Trainable params: 38,051\n",
      "Non-trainable params: 0\n",
      "_________________________________________________________________\n",
      "None\n"
     ]
    }
   ],
   "source": [
    "model_static_h = Sequential()\n",
    "model_static_h.add(Conv1D(filters=64, kernel_size=7,activation='relu',\n",
    "             kernel_regularizer=l2(best_run[\"l2\"]),input_shape=(128,9)))\n",
    "\n",
    "model_static_h.add(Conv1D(filters=32, kernel_size=5, \n",
    "                 activation='relu',kernel_regularizer=l2(best_run[\"l2_1\"])))\n",
    "model_static_h.add(Dropout(best_run[\"Dropout\"]))\n",
    "model_static_h.add(MaxPooling1D(pool_size=5))\n",
    "model_static_h.add(Flatten())\n",
    "model_static_h.add(Dense(32, activation='relu'))\n",
    "model_static_h.add(Dense(3, activation='softmax'))\n",
    "\n",
    "\n",
    "\n",
    "print(model_static_h.summary())    \n"
   ]
  },
  {
   "cell_type": "code",
   "execution_count": 89,
   "metadata": {},
   "outputs": [],
   "source": [
    "adam = keras.optimizers.Adam(lr=best_run[\"lr\"])\n",
    "\n",
    "model_static_h.compile(loss='categorical_crossentropy', optimizer=adam, metrics=['accuracy'])\n"
   ]
  },
  {
   "cell_type": "code",
   "execution_count": 91,
   "metadata": {},
   "outputs": [],
   "source": [
    "static_fit = model_static_h.fit(X_train_static, Y_train_static,\n",
    "          batch_size=16,\n",
    "          epochs=30,\n",
    "          verbose = 0,\n",
    "          validation_data=(X_test_static, Y_test_static))"
   ]
  },
  {
   "cell_type": "code",
   "execution_count": 92,
   "metadata": {
    "colab": {},
    "colab_type": "code",
    "id": "oWI8F-JYkhF_"
   },
   "outputs": [],
   "source": [
    "model_static_h.save(\"model_static_new_trail3.h5\")"
   ]
  },
  {
   "cell_type": "markdown",
   "metadata": {
    "colab_type": "text",
    "id": "iK9GZfZLI0qM"
   },
   "source": [
    "### model for dynamic classifier"
   ]
  },
  {
   "cell_type": "code",
   "execution_count": 0,
   "metadata": {
    "colab": {
     "base_uri": "https://localhost:8080/",
     "height": 340
    },
    "colab_type": "code",
    "executionInfo": {
     "elapsed": 1275,
     "status": "ok",
     "timestamp": 1565484099180,
     "user": {
      "displayName": "sandeep Burra",
      "photoUrl": "",
      "userId": "00094485018250843945"
     },
     "user_tz": -330
    },
    "id": "b32kJ4OkI0qZ",
    "outputId": "835c7481-ec0a-4fa7-df32-46262805953c"
   },
   "outputs": [
    {
     "name": "stdout",
     "output_type": "stream",
     "text": [
      "_________________________________________________________________\n",
      "Layer (type)                 Output Shape              Param #   \n",
      "=================================================================\n",
      "conv1d_34 (Conv1D)           (None, 122, 100)          6400      \n",
      "_________________________________________________________________\n",
      "dropout_19 (Dropout)         (None, 122, 100)          0         \n",
      "_________________________________________________________________\n",
      "max_pooling1d_23 (MaxPooling (None, 40, 100)           0         \n",
      "_________________________________________________________________\n",
      "flatten_19 (Flatten)         (None, 4000)              0         \n",
      "_________________________________________________________________\n",
      "dense_39 (Dense)             (None, 50)                200050    \n",
      "_________________________________________________________________\n",
      "dense_40 (Dense)             (None, 3)                 153       \n",
      "=================================================================\n",
      "Total params: 206,603\n",
      "Trainable params: 206,603\n",
      "Non-trainable params: 0\n",
      "_________________________________________________________________\n"
     ]
    }
   ],
   "source": [
    "model_dynamic = Sequential()\n",
    "model_dynamic.add(Conv1D(filters=100, kernel_size=7, activation='relu',kernel_regularizer = l2(0.007),input_shape=(128,9)))\n",
    "#model_static.add(Conv1D(filters=64, kernel_size=3, activation='relu',kernel_initializer='he_uniform'))\n",
    "model_dynamic.add(Dropout(0.7))\n",
    "#model_static.add(Conv1D(filters=32, kernel_size=3, activation='relu',kernel_initializer='he_uniform'))\n",
    "model_dynamic.add(MaxPooling1D(pool_size=3))\n",
    "model_dynamic.add(Flatten())\n",
    "model_dynamic.add(Dense(50, activation='relu'))\n",
    "#model_dynamic.add(Dense(32, activation='relu'))\n",
    "model_dynamic.add(Dense(3, activation='softmax'))\n",
    "model_dynamic.summary()"
   ]
  },
  {
   "cell_type": "code",
   "execution_count": 0,
   "metadata": {
    "colab": {},
    "colab_type": "code",
    "id": "d8WHkZqyI0qo"
   },
   "outputs": [],
   "source": [
    "adam = keras.optimizers.Adam(lr=0.003)\n",
    "model_dynamic.compile(loss='categorical_crossentropy', optimizer=\"rmsprop\", metrics=['accuracy'])"
   ]
  },
  {
   "cell_type": "code",
   "execution_count": 0,
   "metadata": {
    "colab": {
     "base_uri": "https://localhost:8080/",
     "height": 734
    },
    "colab_type": "code",
    "executionInfo": {
     "elapsed": 20273,
     "status": "ok",
     "timestamp": 1565484125792,
     "user": {
      "displayName": "sandeep Burra",
      "photoUrl": "",
      "userId": "00094485018250843945"
     },
     "user_tz": -330
    },
    "id": "Gy5oOs3AI0qy",
    "outputId": "ec722018-b75f-4eca-b31f-e8ff3b286481",
    "scrolled": true
   },
   "outputs": [
    {
     "name": "stdout",
     "output_type": "stream",
     "text": [
      "Train on 3285 samples, validate on 1387 samples\n",
      "Epoch 1/20\n",
      "3285/3285 [==============================] - 3s 869us/step - loss: 0.7284 - acc: 0.7839 - val_loss: 0.3654 - val_acc: 0.9279\n",
      "Epoch 2/20\n",
      "3285/3285 [==============================] - 1s 263us/step - loss: 0.1608 - acc: 0.9796 - val_loss: 0.2913 - val_acc: 0.9430\n",
      "Epoch 3/20\n",
      "3285/3285 [==============================] - 1s 256us/step - loss: 0.1106 - acc: 0.9906 - val_loss: 0.1790 - val_acc: 0.9654\n",
      "Epoch 4/20\n",
      "3285/3285 [==============================] - 1s 260us/step - loss: 0.0880 - acc: 0.9936 - val_loss: 0.2129 - val_acc: 0.9567\n",
      "Epoch 5/20\n",
      "3285/3285 [==============================] - 1s 254us/step - loss: 0.0705 - acc: 0.9942 - val_loss: 0.2185 - val_acc: 0.9575\n",
      "Epoch 6/20\n",
      "3285/3285 [==============================] - 1s 262us/step - loss: 0.0551 - acc: 0.9970 - val_loss: 0.1359 - val_acc: 0.9668\n",
      "Epoch 7/20\n",
      "3285/3285 [==============================] - 1s 258us/step - loss: 0.0518 - acc: 0.9948 - val_loss: 0.1418 - val_acc: 0.9661\n",
      "Epoch 8/20\n",
      "3285/3285 [==============================] - 1s 266us/step - loss: 0.0428 - acc: 0.9967 - val_loss: 0.1438 - val_acc: 0.9632\n",
      "Epoch 9/20\n",
      "3285/3285 [==============================] - 1s 258us/step - loss: 0.0362 - acc: 0.9957 - val_loss: 0.1275 - val_acc: 0.9632\n",
      "Epoch 10/20\n",
      "3285/3285 [==============================] - 1s 264us/step - loss: 0.0331 - acc: 0.9957 - val_loss: 0.1357 - val_acc: 0.9603\n",
      "Epoch 11/20\n",
      "3285/3285 [==============================] - 1s 256us/step - loss: 0.0299 - acc: 0.9957 - val_loss: 0.1418 - val_acc: 0.9575\n",
      "Epoch 12/20\n",
      "3285/3285 [==============================] - 1s 257us/step - loss: 0.0354 - acc: 0.9948 - val_loss: 0.1382 - val_acc: 0.9589\n",
      "Epoch 13/20\n",
      "3285/3285 [==============================] - 1s 259us/step - loss: 0.0360 - acc: 0.9942 - val_loss: 0.0864 - val_acc: 0.9733\n",
      "Epoch 14/20\n",
      "3285/3285 [==============================] - 1s 260us/step - loss: 0.0195 - acc: 0.9985 - val_loss: 0.1254 - val_acc: 0.9661\n",
      "Epoch 15/20\n",
      "3285/3285 [==============================] - 1s 261us/step - loss: 0.0415 - acc: 0.9942 - val_loss: 0.0855 - val_acc: 0.9719\n",
      "Epoch 16/20\n",
      "3285/3285 [==============================] - 1s 263us/step - loss: 0.0250 - acc: 0.9960 - val_loss: 0.2087 - val_acc: 0.9560\n",
      "Epoch 17/20\n",
      "3285/3285 [==============================] - 1s 256us/step - loss: 0.0179 - acc: 0.9973 - val_loss: 0.4663 - val_acc: 0.8789\n",
      "Epoch 18/20\n",
      "3285/3285 [==============================] - 1s 261us/step - loss: 0.0210 - acc: 0.9960 - val_loss: 0.1365 - val_acc: 0.9596\n",
      "Epoch 19/20\n",
      "3285/3285 [==============================] - 1s 262us/step - loss: 0.0164 - acc: 0.9970 - val_loss: 0.0936 - val_acc: 0.9704\n",
      "Epoch 20/20\n",
      "3285/3285 [==============================] - 1s 267us/step - loss: 0.0203 - acc: 0.9976 - val_loss: 0.0850 - val_acc: 0.9762\n"
     ]
    }
   ],
   "source": [
    "# Training the model\n",
    "history = model_dynamic.fit(X_train_dynamic,\n",
    "          Y_train_dynamic,\n",
    "          batch_size=30,\n",
    "          validation_data=(X_test_dynamic, Y_test_dynamic),\n",
    "          epochs=20)"
   ]
  },
  {
   "cell_type": "code",
   "execution_count": 0,
   "metadata": {
    "colab": {},
    "colab_type": "code",
    "id": "IXkim9J0iHS_"
   },
   "outputs": [],
   "source": [
    "model_dynamic.save(\"model_dynamic_new_trail2.h5\")"
   ]
  },
  {
   "cell_type": "markdown",
   "metadata": {
    "colab_type": "text",
    "id": "RsdCLti7gah0"
   },
   "source": [
    "### Final Prediction"
   ]
  },
  {
   "cell_type": "code",
   "execution_count": 95,
   "metadata": {
    "colab": {},
    "colab_type": "code",
    "id": "FGuMNLyNmzeF"
   },
   "outputs": [],
   "source": [
    "two_class_clf = load_model('model_2class_new.h5')\n",
    "dynamic_clf = load_model('model_dynamic_new_trail2.h5')\n"
   ]
  },
  {
   "cell_type": "code",
   "execution_count": 96,
   "metadata": {
    "colab": {},
    "colab_type": "code",
    "id": "njf3t8kbHJ22"
   },
   "outputs": [],
   "source": [
    "static_clf = load_model('model_static_new_trail3.h5')"
   ]
  },
  {
   "cell_type": "code",
   "execution_count": 99,
   "metadata": {
    "colab": {},
    "colab_type": "code",
    "id": "xlGYTYKVfwBY"
   },
   "outputs": [],
   "source": [
    "def final_predict(data):\n",
    "    class_pred = two_class_clf.predict(data) #prediction of static and dynamic\n",
    "    prob_compare =  np.argmax(class_pred, axis=1) #taking index of max probale class\n",
    "    # prob_compare will have values of 0 and 1. 0 is dynamic label,1is dynamic label\n",
    "    # So now we have to send dynamic predicted label to dynamic classifier\n",
    "    # and send static predicted label to static classifier\n",
    "    dynamic_data = data[prob_compare==0] #Dynamic data\n",
    "    dynamic_pred = dynamic_clf.predict(dynamic_data) #predicting label with dynamic classifier\n",
    "    dynamic_label_pred = np.argmax(dynamic_pred,axis=1) #taking index of max probale class\n",
    "    # dynamic_label_pred contains index of max probable class i.e 0,1 or 2\n",
    "    # But our actual classes are 1,2 and 3.\n",
    "    # So adding 1 to the predicted class to get actual class labels\n",
    "    dynamic_ACTlabel_pred = dynamic_label_pred + 1\n",
    "   \n",
    "    static_data = data[prob_compare==1] #static data\n",
    "    static_pred = static_clf.predict(static_data) #predicting label with static classifier\n",
    "    static_label_pred = np.argmax(static_pred,axis=1) #taking index of max probale class\n",
    "    # static_label_pred contains index of max probable class i.e 0,1 or 2\n",
    "    # But our actual classes are 4,5 and 6.\n",
    "    # So adding 4 to the predicted class to get actual class labels\n",
    "    static_ACTlabel_pred = static_label_pred + 4\n",
    "    \n",
    "    # Now we got prediction for static and dynamic data\n",
    "    # But we need in combine format\n",
    "    \n",
    "    static,dynamic = 0,0 \n",
    "    final_prediction = []\n",
    "    for class_2 in prob_compare:\n",
    "        if class_2 == 0:\n",
    "            final_prediction.append(dynamic_ACTlabel_pred[dynamic])\n",
    "            dynamic = dynamic + 1\n",
    "        else:\n",
    "            final_prediction.append(static_ACTlabel_pred[static])\n",
    "            static = static + 1 \n",
    "    return final_prediction\n",
    "  "
   ]
  },
  {
   "cell_type": "code",
   "execution_count": 114,
   "metadata": {},
   "outputs": [],
   "source": [
    "def plot_confusion_matrix(test_y, predict_y):\n",
    "    C = cm(test_y, predict_y)\n",
    "    # C = 9,9 matrix, each cell (i,j) represents number of points of class i are predicted class j\n",
    "    \n",
    "    A =(((C.T)/(C.sum(axis=1))).T)\n",
    "    #divid each element of the confusion matrix with the sum of elements in that column\n",
    "    \n",
    "    # C = [[1, 2],\n",
    "    #     [3, 4]]\n",
    "    # C.T = [[1, 3],\n",
    "    #        [2, 4]]\n",
    "    # C.sum(axis = 1)  axis=0 corresonds to columns and axis=1 corresponds to rows in two diamensional array\n",
    "    # C.sum(axix =1) = [[3, 7]]\n",
    "    # ((C.T)/(C.sum(axis=1))) = [[1/3, 3/7]\n",
    "    #                           [2/3, 4/7]]\n",
    "\n",
    "    # ((C.T)/(C.sum(axis=1))).T = [[1/3, 2/3]\n",
    "    #                           [3/7, 4/7]]\n",
    "    # sum of row elements = 1\n",
    "    \n",
    "    B =(C/C.sum(axis=0))\n",
    "    #divid each element of the confusion matrix with the sum of elements in that row\n",
    "    # C = [[1, 2],\n",
    "    #     [3, 4]]\n",
    "    # C.sum(axis = 0)  axis=0 corresonds to columns and axis=1 corresponds to rows in two diamensional array\n",
    "    # C.sum(axix =0) = [[4, 6]]\n",
    "    # (C/C.sum(axis=0)) = [[1/4, 2/6],\n",
    "    #                      [3/4, 4/6]] \n",
    "    \n",
    "    labels =[ 'WALKING',\n",
    "    'WALKING_UPSTAIRS',\n",
    "    'WALKING_DOWNSTAIRS',\n",
    "    'SITTING',\n",
    "    'STANDING',\n",
    "    'LAYING']\n",
    "    # representing A in heatmap format\n",
    "    print(\"-\"*20, \"Confusion matrix\", \"-\"*20)\n",
    "    plt.figure(figsize=(20,7))\n",
    "    sns.heatmap(C, annot=True, cmap=\"YlGnBu\", fmt=\".3f\", xticklabels=labels, yticklabels=labels)\n",
    "    plt.xlabel('Predicted Class')\n",
    "    plt.ylabel('Original Class')\n",
    "    plt.show()\n",
    "\n",
    "    print(\"-\"*20, \"Precision matrix (Columm Sum=1)\", \"-\"*20)\n",
    "    plt.figure(figsize=(20,7))\n",
    "    sns.heatmap(B, annot=True, cmap=\"YlGnBu\", fmt=\".3f\", xticklabels=labels, yticklabels=labels)\n",
    "    plt.xlabel('Predicted Class')\n",
    "    plt.ylabel('Original Class')\n",
    "    plt.show()\n",
    "    \n",
    "    # representing B in heatmap format\n",
    "    print(\"-\"*20, \"Recall matrix (Row sum=1)\", \"-\"*20)\n",
    "    plt.figure(figsize=(20,7))\n",
    "    sns.heatmap(A, annot=True, cmap=\"YlGnBu\", fmt=\".3f\", xticklabels=labels, yticklabels=labels)\n",
    "    plt.xlabel('Predicted Class')\n",
    "    plt.ylabel('Original Class')\n",
    "    plt.show()"
   ]
  },
  {
   "cell_type": "code",
   "execution_count": 100,
   "metadata": {
    "colab": {},
    "colab_type": "code",
    "id": "CHBJAd7IjCq4"
   },
   "outputs": [
    {
     "name": "stdout",
     "output_type": "stream",
     "text": [
      "Train data Accuracy 0.999455930359086\n",
      "Test data Accuracy 0.9491007804546997\n"
     ]
    }
   ],
   "source": [
    "train_pred = final_predict(X_train)\n",
    "print('Train data Accuracy',accuracy_score(Y_train,train_pred))\n",
    "test_pred = final_predict(X_test)\n",
    "print('Test data Accuracy',accuracy_score(Y_test,test_pred))\n"
   ]
  },
  {
   "cell_type": "code",
   "execution_count": 115,
   "metadata": {
    "colab": {},
    "colab_type": "code",
    "id": "EmRRqQvrqgD6"
   },
   "outputs": [
    {
     "name": "stdout",
     "output_type": "stream",
     "text": [
      "-------------------- Confusion matrix --------------------\n"
     ]
    },
    {
     "data": {
      "image/png": "[encoded data removed]",
      "text/plain": [
       "<Figure size 1440x504 with 2 Axes>"
      ]
     },
     "metadata": {
      "needs_background": "light"
     },
     "output_type": "display_data"
    },
    {
     "name": "stdout",
     "output_type": "stream",
     "text": [
      "-------------------- Precision matrix (Columm Sum=1) --------------------\n"
     ]
    },
    {
     "data": {
      "image/png": "[encoded data removed]",
      "text/plain": [
       "<Figure size 1440x504 with 2 Axes>"
      ]
     },
     "metadata": {
      "needs_background": "light"
     },
     "output_type": "display_data"
    },
    {
     "name": "stdout",
     "output_type": "stream",
     "text": [
      "-------------------- Recall matrix (Row sum=1) --------------------\n"
     ]
    },
    {
     "data": {
      "image/png": "[encoded data removed]",
      "text/plain": [
       "<Figure size 1440x504 with 2 Axes>"
      ]
     },
     "metadata": {
      "needs_background": "light"
     },
     "output_type": "display_data"
    }
   ],
   "source": [
    "print(\"confusion matrix of train data\")\n",
    "plot_confusion_matrix(Y_train,train_pred)"
   ]
  },
  {
   "cell_type": "code",
   "execution_count": 116,
   "metadata": {},
   "outputs": [
    {
     "name": "stdout",
     "output_type": "stream",
     "text": [
      "confusion matrix of test data\n",
      "-------------------- Confusion matrix --------------------\n"
     ]
    },
    {
     "data": {
      "image/png": "[encoded data removed]",
      "text/plain": [
       "<Figure size 1440x504 with 2 Axes>"
      ]
     },
     "metadata": {
      "needs_background": "light"
     },
     "output_type": "display_data"
    },
    {
     "name": "stdout",
     "output_type": "stream",
     "text": [
      "-------------------- Precision matrix (Columm Sum=1) --------------------\n"
     ]
    },
    {
     "data": {
      "image/png": "[encoded data removed]",
      "text/plain": [
       "<Figure size 1440x504 with 2 Axes>"
      ]
     },
     "metadata": {
      "needs_background": "light"
     },
     "output_type": "display_data"
    },
    {
     "name": "stdout",
     "output_type": "stream",
     "text": [
      "-------------------- Recall matrix (Row sum=1) --------------------\n"
     ]
    },
    {
     "data": {
      "image/png": "[encoded data removed]",
      "text/plain": [
       "<Figure size 1440x504 with 2 Axes>"
      ]
     },
     "metadata": {
      "needs_background": "light"
     },
     "output_type": "display_data"
    }
   ],
   "source": [
    "print(\"confusion matrix of test data\")\n",
    "plot_confusion_matrix(Y_test,test_pred)"
   ]
  },
  {
   "cell_type": "markdown",
   "metadata": {},
   "source": [
    "#### Conclusions\n",
    "* We could classify static and dynamic activities with more accurately\n",
    "* All dynamic activities are classfied fairly well.\n",
    "* In dynamic activities, there is some mis-classification between sitting and standing\n",
    "* By using devide and conquer we have achieved 95% accuaracy"
   ]
  }
 ],
 "metadata": {
  "accelerator": "GPU",
  "colab": {
   "collapsed_sections": [
    "vIif6ZmoD697",
    "I6wvyxKt95bT",
    "istcWnpD-zpa",
    "iK9GZfZLI0qM",
    "RsdCLti7gah0"
   ],
   "name": "trail_2-divide n concur har.ipynb",
   "provenance": [
    {
     "file_id": "1UAqxd-9_rFgxrjdnPIaOV8SUfsouPei0",
     "timestamp": 1565408634993
    },
    {
     "file_id": "143viQ9A1r-NGoqs2MRkTd4Pk5jJ6ByoK",
     "timestamp": 1565405570299
    },
    {
     "file_id": "1HhoojgwU5wUr546U25qGVBnJ9j2v3tGt",
     "timestamp": 1565223865531
    }
   ],
   "toc_visible": true,
   "version": "0.3.2"
  },
  "kernelspec": {
   "display_name": "Python 3",
   "language": "python",
   "name": "python3"
  },
  "language_info": {
   "codemirror_mode": {
    "name": "ipython",
    "version": 3
   },
   "file_extension": ".py",
   "mimetype": "text/x-python",
   "name": "python",
   "nbconvert_exporter": "python",
   "pygments_lexer": "ipython3",
   "version": "3.7.1"
  }
 },
 "nbformat": 4,
 "nbformat_minor": 1
}
